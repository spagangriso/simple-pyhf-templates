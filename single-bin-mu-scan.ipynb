{
 "cells": [
  {
   "cell_type": "code",
   "execution_count": 1,
   "id": "f42f4edb",
   "metadata": {},
   "outputs": [],
   "source": [
    "import pyhf\n",
    "import numpy as np\n",
    "import matplotlib.pyplot as plt\n",
    "from pyhf.contrib.viz import brazil"
   ]
  },
  {
   "cell_type": "code",
   "execution_count": 2,
   "id": "034c2d0d",
   "metadata": {},
   "outputs": [],
   "source": [
    "pyhf.set_backend(\"numpy\")"
   ]
  },
  {
   "cell_type": "code",
   "execution_count": 3,
   "id": "e3c654ad",
   "metadata": {},
   "outputs": [],
   "source": [
    "sig = {\n",
    "    \"name\": \"signal\",\n",
    "    \"data\": [6.0],\n",
    "    \"modifiers\": [\n",
    "        {\n",
    "            \"name\": \"mu\",\n",
    "            \"type\": \"normfactor\",\n",
    "            \"data\": None\n",
    "        }\n",
    "    ]\n",
    "}"
   ]
  },
  {
   "cell_type": "code",
   "execution_count": 4,
   "id": "f0bcdd08",
   "metadata": {},
   "outputs": [],
   "source": [
    "bkg = {\n",
    "    \"name\": \"background\",\n",
    "    \"data\": [9.0],\n",
    "    \"modifiers\": []   \n",
    "}"
   ]
  },
  {
   "cell_type": "code",
   "execution_count": 5,
   "id": "df033cf4",
   "metadata": {},
   "outputs": [],
   "source": [
    "channels = [\n",
    "    {\n",
    "        \"name\": \"singlechannel\",\n",
    "        \"samples\": [sig, bkg]        \n",
    "    }\n",
    "]"
   ]
  },
  {
   "cell_type": "code",
   "execution_count": 6,
   "id": "95e42586",
   "metadata": {},
   "outputs": [],
   "source": [
    "measurements = [\n",
    "    {\n",
    "        \"name\": \"measurement\",\n",
    "        \"config\": {\n",
    "            \"poi\": \"mu\",\n",
    "            \"parameters\": []\n",
    "        }        \n",
    "    }\n",
    "]"
   ]
  },
  {
   "cell_type": "code",
   "execution_count": 7,
   "id": "4320e519",
   "metadata": {},
   "outputs": [],
   "source": [
    "observations = [\n",
    "    {\n",
    "        \"name\": \"singlechannel\",\n",
    "        \"data\": [9.0]        \n",
    "    }\n",
    "]"
   ]
  },
  {
   "cell_type": "code",
   "execution_count": 10,
   "id": "4e162667",
   "metadata": {},
   "outputs": [],
   "source": [
    "#build workspace\n",
    "workspace = {\n",
    "    \"channels\": channels,\n",
    "    \"observations\": observations,\n",
    "    \"measurements\": measurements,        \n",
    "    \"version\": \"1.0.0\"\n",
    "}"
   ]
  },
  {
   "cell_type": "code",
   "execution_count": 12,
   "id": "e457901c",
   "metadata": {},
   "outputs": [],
   "source": [
    "#get ws, model, data\n",
    "ws = pyhf.Workspace(workspace)\n",
    "model = ws.model()\n",
    "data = ws.data(model)"
   ]
  },
  {
   "cell_type": "code",
   "execution_count": null,
   "id": "592699d2",
   "metadata": {},
   "outputs": [],
   "source": [
    "#Alternative: simple model\n",
    "#model = pyhf.simplemodels.uncorrelated_background(\n",
    "#    signal=sig[\"data\"], bkg=bkg[\"data\"], bkg_uncertainty=[0.01]\n",
    "#)\n",
    "#data = observations[0][\"data\"] + model.config.auxdata"
   ]
  },
  {
   "cell_type": "code",
   "execution_count": 13,
   "id": "08a68fbd",
   "metadata": {},
   "outputs": [
    {
     "name": "stdout",
     "output_type": "stream",
     "text": [
      "========== MODEL =========================\n",
      "  aux data: []\n",
      "\n"
     ]
    }
   ],
   "source": [
    "print(f\"========== MODEL =========================\")\n",
    "print(f\"  aux data: {model.config.auxdata}\")\n",
    "#print(f\"      down: {model.expected_data([-1.0])}\")\n",
    "#print(f\"   nominal: {model.expected_data([0.0])}\")\n",
    "#print(f\"        up: {model.expected_data([1.0])}\")\n",
    "print(\"\")"
   ]
  },
  {
   "cell_type": "code",
   "execution_count": 14,
   "id": "d1fb6ff2",
   "metadata": {},
   "outputs": [
    {
     "name": "stderr",
     "output_type": "stream",
     "text": [
      "/home/spagan/.local/lib/python3.9/site-packages/pyhf/infer/calculators.py:369: RuntimeWarning: invalid value encountered in double_scalars\n",
      "  teststat = (qmu - qmu_A) / (2 * self.sqrtqmuA_v)\n"
     ]
    }
   ],
   "source": [
    "poi_vals = np.linspace(0, 5, 41)\n",
    "results = [\n",
    "    pyhf.infer.hypotest(\n",
    "        test_poi, data, model, test_stat=\"qtilde\", return_expected_set=True,\n",
    "#        calctype=\"toybased\", ntoys=100\n",
    "    )\n",
    "    for test_poi in poi_vals\n",
    "]"
   ]
  },
  {
   "cell_type": "code",
   "execution_count": 15,
   "id": "d2aad6c1",
   "metadata": {},
   "outputs": [
    {
     "name": "stderr",
     "output_type": "stream",
     "text": [
      "/tmp/ipykernel_1188472/2674982968.py:4: UserWarning: Matplotlib is currently using module://matplotlib_inline.backend_inline, which is a non-GUI backend, so cannot show the figure.\n",
      "  fig.show()\n"
     ]
    },
    {
     "data": {
      "image/png": "[encoded data removed]",
      "text/plain": [
       "<Figure size 504x360 with 1 Axes>"
      ]
     },
     "metadata": {
      "needs_background": "light"
     },
     "output_type": "display_data"
    }
   ],
   "source": [
    "fig, ax = plt.subplots()\n",
    "fig.set_size_inches(7, 5)\n",
    "brazil.plot_results(poi_vals, results, ax=ax)\n",
    "fig.show()"
   ]
  },
  {
   "cell_type": "code",
   "execution_count": 19,
   "id": "f52ac7c5",
   "metadata": {},
   "outputs": [
    {
     "name": "stdout",
     "output_type": "stream",
     "text": [
      "======== RESULTS =========\n",
      "mu = 0.0, CLs_obs = nan, CLs_exp = 1.000000 +0.0000 -0.0000\n",
      "mu = 0.125, CLs_obs = 0.8077, CLs_exp = 0.807715 +0.1139 -0.1341\n",
      "mu = 0.25, CLs_obs = 0.6350, CLs_exp = 0.635040 +0.1974 -0.1929\n",
      "mu = 0.375, CLs_obs = 0.4869, CLs_exp = 0.486879 +0.2497 -0.2032\n",
      "mu = 0.5, CLs_obs = 0.3647, CLs_exp = 0.364677 +0.2739 -0.1863\n",
      "mu = 0.625, CLs_obs = 0.2673, CLs_exp = 0.267314 +0.2753 -0.1573\n",
      "mu = 0.75, CLs_obs = 0.1921, CLs_exp = 0.192075 +0.2600 -0.1253\n",
      "mu = 0.875, CLs_obs = 0.1355, CLs_exp = 0.135493 +0.2343 -0.0955\n",
      "mu = 1.0, CLs_obs = 0.0940, CLs_exp = 0.093963 +0.2030 -0.0704\n",
      "mu = 1.125, CLs_obs = 0.0641, CLs_exp = 0.064142 +0.1704 -0.0504\n",
      "mu = 1.25, CLs_obs = 0.0431, CLs_exp = 0.043149 +0.1391 -0.0352\n",
      "mu = 1.375, CLs_obs = 0.0286, CLs_exp = 0.028635 +0.1108 -0.0241\n",
      "mu = 1.5, CLs_obs = 0.0188, CLs_exp = 0.018764 +0.0864 -0.0162\n",
      "mu = 1.625, CLs_obs = 0.0122, CLs_exp = 0.012152 +0.0661 -0.0107\n",
      "mu = 1.75, CLs_obs = 0.0078, CLs_exp = 0.007784 +0.0497 -0.0070\n",
      "mu = 1.875, CLs_obs = 0.0049, CLs_exp = 0.004935 +0.0367 -0.0045\n",
      "mu = 2.0, CLs_obs = 0.0031, CLs_exp = 0.003098 +0.0268 -0.0029\n",
      "mu = 2.125, CLs_obs = 0.0019, CLs_exp = 0.001928 +0.0192 -0.0018\n",
      "mu = 2.25, CLs_obs = 0.0012, CLs_exp = 0.001189 +0.0137 -0.0011\n",
      "mu = 2.375, CLs_obs = 0.0007, CLs_exp = 0.000728 +0.0096 -0.0007\n",
      "mu = 2.5, CLs_obs = 0.0004, CLs_exp = 0.000442 +0.0067 -0.0004\n",
      "mu = 2.625, CLs_obs = 0.0003, CLs_exp = 0.000267 +0.0046 -0.0003\n",
      "mu = 2.75, CLs_obs = 0.0002, CLs_exp = 0.000160 +0.0031 -0.0002\n",
      "mu = 2.875, CLs_obs = 0.0001, CLs_exp = 0.000095 +0.0021 -0.0001\n",
      "mu = 3.0, CLs_obs = 0.0001, CLs_exp = 0.000056 +0.0014 -0.0001\n",
      "mu = 3.125, CLs_obs = 0.0000, CLs_exp = 0.000033 +0.0009 -0.0000\n",
      "mu = 3.25, CLs_obs = 0.0000, CLs_exp = 0.000019 +0.0006 -0.0000\n",
      "mu = 3.375, CLs_obs = 0.0000, CLs_exp = 0.000011 +0.0004 -0.0000\n",
      "mu = 3.5, CLs_obs = 0.0000, CLs_exp = 0.000007 +0.0003 -0.0000\n",
      "mu = 3.625, CLs_obs = 0.0000, CLs_exp = 0.000004 +0.0002 -0.0000\n",
      "mu = 3.75, CLs_obs = 0.0000, CLs_exp = 0.000002 +0.0001 -0.0000\n",
      "mu = 3.875, CLs_obs = 0.0000, CLs_exp = 0.000001 +0.0001 -0.0000\n",
      "mu = 4.0, CLs_obs = 0.0000, CLs_exp = 0.000001 +0.0000 -0.0000\n",
      "mu = 4.125, CLs_obs = 0.0000, CLs_exp = 0.000000 +0.0000 -0.0000\n",
      "mu = 4.25, CLs_obs = 0.0000, CLs_exp = 0.000000 +0.0000 -0.0000\n",
      "mu = 4.375, CLs_obs = 0.0000, CLs_exp = 0.000000 +0.0000 -0.0000\n",
      "mu = 4.5, CLs_obs = 0.0000, CLs_exp = 0.000000 +0.0000 -0.0000\n",
      "mu = 4.625, CLs_obs = 0.0000, CLs_exp = 0.000000 +0.0000 -0.0000\n",
      "mu = 4.75, CLs_obs = 0.0000, CLs_exp = 0.000000 +0.0000 -0.0000\n",
      "mu = 4.875, CLs_obs = 0.0000, CLs_exp = 0.000000 +0.0000 -0.0000\n",
      "mu = 5.0, CLs_obs = 0.0000, CLs_exp = 0.000000 +0.0000 -0.0000\n"
     ]
    }
   ],
   "source": [
    "print(\"======== RESULTS =========\")\n",
    "for poi, cls_results in zip(poi_vals, results): #range(0,len(poi_vals))\n",
    "    #results contain a list of (CLs_obs, (CLs_exp_m2sigma, CLs_exp_m1sigma, CLs_exp, CLs_exp_p1sigma, CLs_exp_p2sigma))\n",
    "    cls_obs = cls_results[0]\n",
    "    cls_exp = cls_results[1][2]\n",
    "    cls_exp_plus = cls_results[1][3] - cls_exp\n",
    "    cls_exp_minus = cls_exp - cls_results[1][1]\n",
    "    print(f\"mu = {poi}, CLs_obs = {cls_obs:.4f}, CLs_exp = {cls_exp:4f} +{cls_exp_plus:.4f} -{cls_exp_minus:.4f}\")\n",
    "    #    print(f\"mu = {poi_vals[idx]}, CLs_obs = {cls_obs:.4f}, CLs_exp = {cls_exp:4f} +{cls_exp_plus:.4f} -{cls_exp_minus:.4f}\")"
   ]
  },
  {
   "cell_type": "code",
   "execution_count": null,
   "id": "5cb7ef24",
   "metadata": {},
   "outputs": [],
   "source": []
  }
 ],
 "metadata": {
  "kernelspec": {
   "display_name": "Python 3 (ipykernel)",
   "language": "python",
   "name": "python3"
  },
  "language_info": {
   "codemirror_mode": {
    "name": "ipython",
    "version": 3
   },
   "file_extension": ".py",
   "mimetype": "text/x-python",
   "name": "python",
   "nbconvert_exporter": "python",
   "pygments_lexer": "ipython3",
   "version": "3.9.7"
  }
 },
 "nbformat": 4,
 "nbformat_minor": 5
}
